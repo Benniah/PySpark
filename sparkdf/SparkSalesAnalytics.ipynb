{
 "cells": [
  {
   "cell_type": "markdown",
   "metadata": {},
   "source": [
    "## Imports \n"
   ]
  },
  {
   "cell_type": "code",
   "execution_count": 1,
   "metadata": {},
   "outputs": [],
   "source": [
    "from pyspark.sql import SparkSession\n",
    "from pyspark.sql.types import StructType, StructField, StringType"
   ]
  },
  {
   "cell_type": "code",
   "execution_count": 2,
   "metadata": {},
   "outputs": [],
   "source": [
    "spark = (SparkSession.builder.appName(\"SalesAnalytics\").getOrCreate()) "
   ]
  },
  {
   "cell_type": "markdown",
   "metadata": {},
   "source": [
    "# Data Preparation"
   ]
  },
  {
   "cell_type": "code",
   "execution_count": 3,
   "metadata": {},
   "outputs": [],
   "source": [
    "schema = StructType([\n",
    "    StructField(\"Order ID\", StringType(), True),\n",
    "    StructField(\"Product\", StringType(), True),\n",
    "    StructField(\"Quantity Ordered\", StringType(), True),\n",
    "    StructField(\"Price Each\", StringType(), True),\n",
    "    StructField(\"Order Date\", StringType(), True),\n",
    "    StructField(\"Purchase Address\", StringType(), True)   \n",
    "])"
   ]
  },
  {
   "cell_type": "code",
   "execution_count": 4,
   "metadata": {},
   "outputs": [],
   "source": [
    "sales_data_fpath = \"./data/salesdata\"\n",
    "sales_raw_df = (spark.read.format(\"csv\")\n",
    "                .option(\"header\",True)\n",
    "                .schema(schema)\n",
    "                .load(sales_data_fpath))"
   ]
  },
  {
   "cell_type": "code",
   "execution_count": 5,
   "metadata": {},
   "outputs": [
    {
     "name": "stdout",
     "output_type": "stream",
     "text": [
      "+--------+--------------------+----------------+----------+--------------+--------------------+\n",
      "|Order ID|             Product|Quantity Ordered|Price Each|    Order Date|    Purchase Address|\n",
      "+--------+--------------------+----------------+----------+--------------+--------------------+\n",
      "|  295665|  Macbook Pro Laptop|               1|      1700|12/30/19 00:01|136 Church St, Ne...|\n",
      "|  295666|  LG Washing Machine|               1|     600.0|12/29/19 07:03|562 2nd St, New Y...|\n",
      "|  295667|USB-C Charging Cable|               1|     11.95|12/12/19 18:21|277 Main St, New ...|\n",
      "|  295668|    27in FHD Monitor|               1|    149.99|12/22/19 15:13|410 6th St, San F...|\n",
      "|  295669|USB-C Charging Cable|               1|     11.95|12/18/19 12:38|43 Hill St, Atlan...|\n",
      "|  295670|AA Batteries (4-p...|               1|      3.84|12/31/19 22:58|200 Jefferson St,...|\n",
      "|  295671|USB-C Charging Cable|               1|     11.95|12/16/19 15:10|928 12th St, Port...|\n",
      "|  295672|USB-C Charging Cable|               2|     11.95|12/13/19 09:29|813 Hickory St, D...|\n",
      "|  295673|Bose SoundSport H...|               1|     99.99|12/15/19 23:26|718 Wilson St, Da...|\n",
      "|  295674|AAA Batteries (4-...|               4|      2.99|12/28/19 11:51|77 7th St, Dallas...|\n",
      "+--------+--------------------+----------------+----------+--------------+--------------------+\n",
      "only showing top 10 rows\n",
      "\n"
     ]
    }
   ],
   "source": [
    "sales_raw_df.show(10)"
   ]
  },
  {
   "cell_type": "code",
   "execution_count": 6,
   "metadata": {},
   "outputs": [
    {
     "name": "stdout",
     "output_type": "stream",
     "text": [
      "root\n",
      " |-- Order ID: string (nullable = true)\n",
      " |-- Product: string (nullable = true)\n",
      " |-- Quantity Ordered: string (nullable = true)\n",
      " |-- Price Each: string (nullable = true)\n",
      " |-- Order Date: string (nullable = true)\n",
      " |-- Purchase Address: string (nullable = true)\n",
      "\n"
     ]
    }
   ],
   "source": [
    "sales_raw_df.printSchema()"
   ]
  },
  {
   "cell_type": "markdown",
   "metadata": {},
   "source": [
    "# Data Preparation and Cleansing"
   ]
  },
  {
   "cell_type": "markdown",
   "metadata": {},
   "source": [
    "## Remove Null Rows and Bad Records"
   ]
  },
  {
   "cell_type": "code",
   "execution_count": 7,
   "metadata": {},
   "outputs": [],
   "source": [
    "from pyspark.sql.functions import col"
   ]
  },
  {
   "cell_type": "code",
   "execution_count": 8,
   "metadata": {},
   "outputs": [
    {
     "name": "stdout",
     "output_type": "stream",
     "text": [
      "+--------+-------+----------------+----------+----------+----------------+\n",
      "|Order ID|Product|Quantity Ordered|Price Each|Order Date|Purchase Address|\n",
      "+--------+-------+----------------+----------+----------+----------------+\n",
      "|    null|   null|            null|      null|      null|            null|\n",
      "|    null|   null|            null|      null|      null|            null|\n",
      "|    null|   null|            null|      null|      null|            null|\n",
      "|    null|   null|            null|      null|      null|            null|\n",
      "|    null|   null|            null|      null|      null|            null|\n",
      "|    null|   null|            null|      null|      null|            null|\n",
      "|    null|   null|            null|      null|      null|            null|\n",
      "|    null|   null|            null|      null|      null|            null|\n",
      "|    null|   null|            null|      null|      null|            null|\n",
      "|    null|   null|            null|      null|      null|            null|\n",
      "+--------+-------+----------------+----------+----------+----------------+\n",
      "only showing top 10 rows\n",
      "\n"
     ]
    }
   ],
   "source": [
    "## show null values in dataframe\n",
    "sales_raw_df.filter(col(\"Order ID\").isNull() == True).show(10)"
   ]
  },
  {
   "cell_type": "code",
   "execution_count": 9,
   "metadata": {},
   "outputs": [],
   "source": [
    "sales_raw_df = sales_raw_df.na.drop(\"any\")"
   ]
  },
  {
   "cell_type": "code",
   "execution_count": 10,
   "metadata": {},
   "outputs": [
    {
     "name": "stdout",
     "output_type": "stream",
     "text": [
      "+--------+-------+----------------+----------+----------+----------------+\n",
      "|Order ID|Product|Quantity Ordered|Price Each|Order Date|Purchase Address|\n",
      "+--------+-------+----------------+----------+----------+----------------+\n",
      "+--------+-------+----------------+----------+----------+----------------+\n",
      "\n"
     ]
    }
   ],
   "source": [
    "## No more Null Values\n",
    "sales_raw_df.filter(col(\"Order ID\").isNull() == True).show(10)"
   ]
  },
  {
   "cell_type": "code",
   "execution_count": 11,
   "metadata": {},
   "outputs": [
    {
     "name": "stdout",
     "output_type": "stream",
     "text": [
      "+-------+------------------+------------+------------------+------------------+--------------+--------------------+\n",
      "|summary|          Order ID|     Product|  Quantity Ordered|        Price Each|    Order Date|    Purchase Address|\n",
      "+-------+------------------+------------+------------------+------------------+--------------+--------------------+\n",
      "|  count|            186305|      186305|            186305|            186305|        186305|              186305|\n",
      "|   mean| 230417.5693788653|        null|1.1243828986286637|184.39973476747707|          null|                null|\n",
      "| stddev|51512.737109995265|        null|0.4427926240286704| 332.7313298843439|          null|                null|\n",
      "|    min|            141234|20in Monitor|                 1|            109.99|01/01/19 03:07|1 11th St, Atlant...|\n",
      "|    max|          Order ID|      iPhone|  Quantity Ordered|        Price Each|    Order Date|    Purchase Address|\n",
      "+-------+------------------+------------+------------------+------------------+--------------+--------------------+\n",
      "\n"
     ]
    }
   ],
   "source": [
    "sales_raw_df.describe().show()"
   ]
  },
  {
   "cell_type": "code",
   "execution_count": 12,
   "metadata": {},
   "outputs": [
    {
     "name": "stdout",
     "output_type": "stream",
     "text": [
      "+--------+-------+----------------+----------+----------+----------------+\n",
      "|Order ID|Product|Quantity Ordered|Price Each|Order Date|Purchase Address|\n",
      "+--------+-------+----------------+----------+----------+----------------+\n",
      "|Order ID|Product|Quantity Ordered|Price Each|Order Date|Purchase Address|\n",
      "|Order ID|Product|Quantity Ordered|Price Each|Order Date|Purchase Address|\n",
      "|Order ID|Product|Quantity Ordered|Price Each|Order Date|Purchase Address|\n",
      "|Order ID|Product|Quantity Ordered|Price Each|Order Date|Purchase Address|\n",
      "|Order ID|Product|Quantity Ordered|Price Each|Order Date|Purchase Address|\n",
      "|Order ID|Product|Quantity Ordered|Price Each|Order Date|Purchase Address|\n",
      "|Order ID|Product|Quantity Ordered|Price Each|Order Date|Purchase Address|\n",
      "|Order ID|Product|Quantity Ordered|Price Each|Order Date|Purchase Address|\n",
      "|Order ID|Product|Quantity Ordered|Price Each|Order Date|Purchase Address|\n",
      "|Order ID|Product|Quantity Ordered|Price Each|Order Date|Purchase Address|\n",
      "+--------+-------+----------------+----------+----------+----------------+\n",
      "only showing top 10 rows\n",
      "\n"
     ]
    }
   ],
   "source": [
    "sales_raw_df.filter(col(\"Order ID\") == \"Order ID\").show(10)"
   ]
  },
  {
   "cell_type": "code",
   "execution_count": 13,
   "metadata": {},
   "outputs": [],
   "source": [
    "sales_temp_df = sales_raw_df.distinct()"
   ]
  },
  {
   "cell_type": "code",
   "execution_count": 14,
   "metadata": {},
   "outputs": [
    {
     "name": "stdout",
     "output_type": "stream",
     "text": [
      "+--------+-------+----------------+----------+----------+----------------+\n",
      "|Order ID|Product|Quantity Ordered|Price Each|Order Date|Purchase Address|\n",
      "+--------+-------+----------------+----------+----------+----------------+\n",
      "|Order ID|Product|Quantity Ordered|Price Each|Order Date|Purchase Address|\n",
      "+--------+-------+----------------+----------+----------+----------------+\n",
      "\n"
     ]
    }
   ],
   "source": [
    "sales_temp_df.filter(col(\"Order ID\") == \"Order ID\").show(10)"
   ]
  },
  {
   "cell_type": "code",
   "execution_count": 15,
   "metadata": {},
   "outputs": [],
   "source": [
    "sales_temp_df = sales_temp_df.filter(col(\"Order ID\") != \"Order ID\")"
   ]
  },
  {
   "cell_type": "code",
   "execution_count": 17,
   "metadata": {},
   "outputs": [
    {
     "name": "stdout",
     "output_type": "stream",
     "text": [
      "+--------+-------+----------------+----------+----------+----------------+\n",
      "|Order ID|Product|Quantity Ordered|Price Each|Order Date|Purchase Address|\n",
      "+--------+-------+----------------+----------+----------+----------------+\n",
      "+--------+-------+----------------+----------+----------+----------------+\n",
      "\n"
     ]
    }
   ],
   "source": [
    "sales_temp_df.filter(col(\"Order ID\") == \"Order ID\").show(10)"
   ]
  },
  {
   "cell_type": "code",
   "execution_count": 18,
   "metadata": {},
   "outputs": [
    {
     "name": "stdout",
     "output_type": "stream",
     "text": [
      "+--------+--------------------------+----------------+----------+--------------+----------------------------------------+\n",
      "|Order ID|Product                   |Quantity Ordered|Price Each|Order Date    |Purchase Address                        |\n",
      "+--------+--------------------------+----------------+----------+--------------+----------------------------------------+\n",
      "|295900  |AA Batteries (4-pack)     |1               |3.84      |12/27/19 18:56|283 Washington St, Boston, MA 02215     |\n",
      "|295923  |Lightning Charging Cable  |1               |14.95     |12/21/19 13:41|968 8th St, Austin, TX 73301            |\n",
      "|295991  |Lightning Charging Cable  |1               |14.95     |12/15/19 20:16|857 Center St, Boston, MA 02215         |\n",
      "|296076  |Macbook Pro Laptop        |1               |1700      |12/03/19 15:19|679 Chestnut St, San Francisco, CA 94016|\n",
      "|297015  |AAA Batteries (4-pack)    |3               |2.99      |12/13/19 08:43|58 Dogwood St, San Francisco, CA 94016  |\n",
      "|297237  |Bose SoundSport Headphones|1               |99.99     |12/16/19 10:28|355 Park St, Boston, MA 02215           |\n",
      "|297376  |27in FHD Monitor          |1               |149.99    |12/03/19 11:38|542 9th St, New York City, NY 10001     |\n",
      "|297438  |Lightning Charging Cable  |1               |14.95     |12/17/19 13:13|708 Walnut St, New York City, NY 10001  |\n",
      "|297541  |AAA Batteries (4-pack)    |1               |2.99      |12/20/19 10:24|538 Hickory St, San Francisco, CA 94016 |\n",
      "|297635  |Wired Headphones          |1               |11.99     |12/06/19 09:50|199 8th St, San Francisco, CA 94016     |\n",
      "+--------+--------------------------+----------------+----------+--------------+----------------------------------------+\n",
      "only showing top 10 rows\n",
      "\n"
     ]
    }
   ],
   "source": [
    "sales_temp_df.show(10, truncate=False)"
   ]
  },
  {
   "cell_type": "code",
   "execution_count": 20,
   "metadata": {},
   "outputs": [
    {
     "name": "stdout",
     "output_type": "stream",
     "text": [
      "+-------+------------------+------------+------------------+------------------+--------------+--------------------+\n",
      "|summary|          Order ID|     Product|  Quantity Ordered|        Price Each|    Order Date|    Purchase Address|\n",
      "+-------+------------------+------------+------------------+------------------+--------------+--------------------+\n",
      "|  count|            185686|      185686|            185686|            185686|        185686|              185686|\n",
      "|   mean|230411.37622653297|        null|1.1245435843305365|184.51925546352427|          null|                null|\n",
      "| stddev| 51511.71718332086|        null|0.4430687383832874| 332.8438383900525|          null|                null|\n",
      "|    min|            141234|20in Monitor|                 1|            109.99|01/01/19 03:07|1 11th St, Atlant...|\n",
      "|    max|            319670|      iPhone|                 9|            999.99|12/31/19 23:53|999 Wilson St, Sa...|\n",
      "+-------+------------------+------------+------------------+------------------+--------------+--------------------+\n",
      "\n"
     ]
    }
   ],
   "source": [
    "sales_temp_df.describe().show()"
   ]
  },
  {
   "cell_type": "markdown",
   "metadata": {},
   "source": [
    "## Extract the city and State from Purchase Address"
   ]
  },
  {
   "cell_type": "code",
   "execution_count": 21,
   "metadata": {},
   "outputs": [],
   "source": [
    "from pyspark.sql.functions import split"
   ]
  },
  {
   "cell_type": "code",
   "execution_count": 22,
   "metadata": {},
   "outputs": [
    {
     "name": "stdout",
     "output_type": "stream",
     "text": [
      "+----------------------------------------+\n",
      "|Purchase Address                        |\n",
      "+----------------------------------------+\n",
      "|283 Washington St, Boston, MA 02215     |\n",
      "|968 8th St, Austin, TX 73301            |\n",
      "|857 Center St, Boston, MA 02215         |\n",
      "|679 Chestnut St, San Francisco, CA 94016|\n",
      "|58 Dogwood St, San Francisco, CA 94016  |\n",
      "|355 Park St, Boston, MA 02215           |\n",
      "|542 9th St, New York City, NY 10001     |\n",
      "|708 Walnut St, New York City, NY 10001  |\n",
      "|538 Hickory St, San Francisco, CA 94016 |\n",
      "|199 8th St, San Francisco, CA 94016     |\n",
      "+----------------------------------------+\n",
      "only showing top 10 rows\n",
      "\n"
     ]
    }
   ],
   "source": [
    "sales_temp_df.select(\"Purchase Address\").show(10, False)"
   ]
  },
  {
   "cell_type": "code",
   "execution_count": 23,
   "metadata": {},
   "outputs": [
    {
     "name": "stdout",
     "output_type": "stream",
     "text": [
      "+----------------------------------------+--------------------------------------------+\n",
      "|Purchase Address                        |split(purchase Address, ,, -1)              |\n",
      "+----------------------------------------+--------------------------------------------+\n",
      "|283 Washington St, Boston, MA 02215     |[283 Washington St,  Boston,  MA 02215]     |\n",
      "|968 8th St, Austin, TX 73301            |[968 8th St,  Austin,  TX 73301]            |\n",
      "|857 Center St, Boston, MA 02215         |[857 Center St,  Boston,  MA 02215]         |\n",
      "|679 Chestnut St, San Francisco, CA 94016|[679 Chestnut St,  San Francisco,  CA 94016]|\n",
      "|58 Dogwood St, San Francisco, CA 94016  |[58 Dogwood St,  San Francisco,  CA 94016]  |\n",
      "|355 Park St, Boston, MA 02215           |[355 Park St,  Boston,  MA 02215]           |\n",
      "|542 9th St, New York City, NY 10001     |[542 9th St,  New York City,  NY 10001]     |\n",
      "|708 Walnut St, New York City, NY 10001  |[708 Walnut St,  New York City,  NY 10001]  |\n",
      "|538 Hickory St, San Francisco, CA 94016 |[538 Hickory St,  San Francisco,  CA 94016] |\n",
      "|199 8th St, San Francisco, CA 94016     |[199 8th St,  San Francisco,  CA 94016]     |\n",
      "+----------------------------------------+--------------------------------------------+\n",
      "only showing top 10 rows\n",
      "\n"
     ]
    }
   ],
   "source": [
    "sales_temp_df.select(\"Purchase Address\" ,split(col(\"purchase Address\"), \",\")).show(10, False)"
   ]
  },
  {
   "cell_type": "code",
   "execution_count": 25,
   "metadata": {},
   "outputs": [
    {
     "name": "stdout",
     "output_type": "stream",
     "text": [
      "+----------------------------------------+---------------------------------+\n",
      "|Purchase Address                        |split(purchase Address, ,, -1)[1]|\n",
      "+----------------------------------------+---------------------------------+\n",
      "|283 Washington St, Boston, MA 02215     | Boston                          |\n",
      "|968 8th St, Austin, TX 73301            | Austin                          |\n",
      "|857 Center St, Boston, MA 02215         | Boston                          |\n",
      "|679 Chestnut St, San Francisco, CA 94016| San Francisco                   |\n",
      "|58 Dogwood St, San Francisco, CA 94016  | San Francisco                   |\n",
      "|355 Park St, Boston, MA 02215           | Boston                          |\n",
      "|542 9th St, New York City, NY 10001     | New York City                   |\n",
      "|708 Walnut St, New York City, NY 10001  | New York City                   |\n",
      "|538 Hickory St, San Francisco, CA 94016 | San Francisco                   |\n",
      "|199 8th St, San Francisco, CA 94016     | San Francisco                   |\n",
      "+----------------------------------------+---------------------------------+\n",
      "only showing top 10 rows\n",
      "\n"
     ]
    }
   ],
   "source": [
    "## Get City\n",
    "sales_temp_df.select(\"Purchase Address\" ,split(col(\"purchase Address\"), \",\").getItem(1)).show(10, False)"
   ]
  },
  {
   "cell_type": "code",
   "execution_count": 26,
   "metadata": {},
   "outputs": [
    {
     "name": "stdout",
     "output_type": "stream",
     "text": [
      "+----------------------------------------+---------------------------------+\n",
      "|Purchase Address                        |split(purchase Address, ,, -1)[2]|\n",
      "+----------------------------------------+---------------------------------+\n",
      "|283 Washington St, Boston, MA 02215     | MA 02215                        |\n",
      "|968 8th St, Austin, TX 73301            | TX 73301                        |\n",
      "|857 Center St, Boston, MA 02215         | MA 02215                        |\n",
      "|679 Chestnut St, San Francisco, CA 94016| CA 94016                        |\n",
      "|58 Dogwood St, San Francisco, CA 94016  | CA 94016                        |\n",
      "|355 Park St, Boston, MA 02215           | MA 02215                        |\n",
      "|542 9th St, New York City, NY 10001     | NY 10001                        |\n",
      "|708 Walnut St, New York City, NY 10001  | NY 10001                        |\n",
      "|538 Hickory St, San Francisco, CA 94016 | CA 94016                        |\n",
      "|199 8th St, San Francisco, CA 94016     | CA 94016                        |\n",
      "+----------------------------------------+---------------------------------+\n",
      "only showing top 10 rows\n",
      "\n"
     ]
    }
   ],
   "source": [
    "## Get State\n",
    "sales_temp_df.select(\"Purchase Address\" ,split(col(\"purchase Address\"), \",\").getItem(2)).show(10, False)"
   ]
  },
  {
   "cell_type": "code",
   "execution_count": 27,
   "metadata": {},
   "outputs": [
    {
     "name": "stdout",
     "output_type": "stream",
     "text": [
      "+----------------------------------------+-----------------------------------------------+\n",
      "|Purchase Address                        |split(split(purchase Address, ,, -1)[2],  , -1)|\n",
      "+----------------------------------------+-----------------------------------------------+\n",
      "|283 Washington St, Boston, MA 02215     |[, MA, 02215]                                  |\n",
      "|968 8th St, Austin, TX 73301            |[, TX, 73301]                                  |\n",
      "|857 Center St, Boston, MA 02215         |[, MA, 02215]                                  |\n",
      "|679 Chestnut St, San Francisco, CA 94016|[, CA, 94016]                                  |\n",
      "|58 Dogwood St, San Francisco, CA 94016  |[, CA, 94016]                                  |\n",
      "|355 Park St, Boston, MA 02215           |[, MA, 02215]                                  |\n",
      "|542 9th St, New York City, NY 10001     |[, NY, 10001]                                  |\n",
      "|708 Walnut St, New York City, NY 10001  |[, NY, 10001]                                  |\n",
      "|538 Hickory St, San Francisco, CA 94016 |[, CA, 94016]                                  |\n",
      "|199 8th St, San Francisco, CA 94016     |[, CA, 94016]                                  |\n",
      "+----------------------------------------+-----------------------------------------------+\n",
      "only showing top 10 rows\n",
      "\n"
     ]
    }
   ],
   "source": [
    "## Get State--- We use an Extra Split function to drill into the first split\n",
    "sales_temp_df.select(\"Purchase Address\" ,split(split(col(\"purchase Address\"), \",\").getItem(2), ' ')).show(10, False)"
   ]
  },
  {
   "cell_type": "code",
   "execution_count": 28,
   "metadata": {},
   "outputs": [],
   "source": [
    "sales_temp_df = (sales_temp_df.withColumn(\"City\", split(col(\"purchase Address\"), \",\").getItem(1))\n",
    "                 .withColumn(\"State\", split(split(col(\"purchase Address\"), \",\").getItem(2), ' ').getItem(1)))"
   ]
  },
  {
   "cell_type": "code",
   "execution_count": 29,
   "metadata": {},
   "outputs": [
    {
     "name": "stdout",
     "output_type": "stream",
     "text": [
      "+--------+--------------------------+----------------+----------+--------------+----------------------------------------+--------------+-----+\n",
      "|Order ID|Product                   |Quantity Ordered|Price Each|Order Date    |Purchase Address                        |City          |State|\n",
      "+--------+--------------------------+----------------+----------+--------------+----------------------------------------+--------------+-----+\n",
      "|295900  |AA Batteries (4-pack)     |1               |3.84      |12/27/19 18:56|283 Washington St, Boston, MA 02215     | Boston       |MA   |\n",
      "|295923  |Lightning Charging Cable  |1               |14.95     |12/21/19 13:41|968 8th St, Austin, TX 73301            | Austin       |TX   |\n",
      "|295991  |Lightning Charging Cable  |1               |14.95     |12/15/19 20:16|857 Center St, Boston, MA 02215         | Boston       |MA   |\n",
      "|296076  |Macbook Pro Laptop        |1               |1700      |12/03/19 15:19|679 Chestnut St, San Francisco, CA 94016| San Francisco|CA   |\n",
      "|297015  |AAA Batteries (4-pack)    |3               |2.99      |12/13/19 08:43|58 Dogwood St, San Francisco, CA 94016  | San Francisco|CA   |\n",
      "|297237  |Bose SoundSport Headphones|1               |99.99     |12/16/19 10:28|355 Park St, Boston, MA 02215           | Boston       |MA   |\n",
      "|297376  |27in FHD Monitor          |1               |149.99    |12/03/19 11:38|542 9th St, New York City, NY 10001     | New York City|NY   |\n",
      "|297438  |Lightning Charging Cable  |1               |14.95     |12/17/19 13:13|708 Walnut St, New York City, NY 10001  | New York City|NY   |\n",
      "|297541  |AAA Batteries (4-pack)    |1               |2.99      |12/20/19 10:24|538 Hickory St, San Francisco, CA 94016 | San Francisco|CA   |\n",
      "|297635  |Wired Headphones          |1               |11.99     |12/06/19 09:50|199 8th St, San Francisco, CA 94016     | San Francisco|CA   |\n",
      "+--------+--------------------------+----------------+----------+--------------+----------------------------------------+--------------+-----+\n",
      "only showing top 10 rows\n",
      "\n"
     ]
    }
   ],
   "source": [
    "sales_temp_df.show(10, False)"
   ]
  },
  {
   "cell_type": "markdown",
   "metadata": {},
   "source": [
    "## Rename and Change DataTypes"
   ]
  },
  {
   "cell_type": "code",
   "execution_count": 42,
   "metadata": {},
   "outputs": [],
   "source": [
    "from pyspark.sql.functions import to_timestamp , year , month\n",
    "from pyspark.sql.types import IntegerType , FloatType"
   ]
  },
  {
   "cell_type": "code",
   "execution_count": 39,
   "metadata": {},
   "outputs": [],
   "source": [
    "sales_temp_df = (sales_temp_df.withColumn(\"OrderID\", col(\"Order ID\").cast(IntegerType()))\n",
    "                              .withColumn(\"Quantity\", col(\"Quantity Ordered\").cast(IntegerType()))\n",
    "                              .withColumn(\"Price\", col(\"Price Each\").cast(FloatType()))\n",
    "                              .withColumn(\"OrderDate\", to_timestamp(col(\"Order Date\"), \"MM/dd/yy HH:mm\"))\n",
    "                              .withColumnRenamed(\"Purchase Address\", \"StoreAddress\")\n",
    "                              .drop(\"order ID\")\n",
    "                              .drop(\"Quantity Ordered\")\n",
    "                              .drop(\"Price Each\")\n",
    "                              .drop(\"Purchase Address\"))"
   ]
  },
  {
   "cell_type": "code",
   "execution_count": 40,
   "metadata": {},
   "outputs": [
    {
     "name": "stdout",
     "output_type": "stream",
     "text": [
      "+--------------------+--------------+--------------------+--------------+-----+-------+--------+------+-------------------+\n",
      "|             Product|    Order Date|        StoreAddress|          City|State|OrderID|Quantity| Price|          OrderDate|\n",
      "+--------------------+--------------+--------------------+--------------+-----+-------+--------+------+-------------------+\n",
      "|AA Batteries (4-p...|12/27/19 18:56|283 Washington St...|        Boston|   MA| 295900|       1|  3.84|2019-12-27 18:56:00|\n",
      "|Lightning Chargin...|12/21/19 13:41|968 8th St, Austi...|        Austin|   TX| 295923|       1| 14.95|2019-12-21 13:41:00|\n",
      "|Lightning Chargin...|12/15/19 20:16|857 Center St, Bo...|        Boston|   MA| 295991|       1| 14.95|2019-12-15 20:16:00|\n",
      "|  Macbook Pro Laptop|12/03/19 15:19|679 Chestnut St, ...| San Francisco|   CA| 296076|       1|1700.0|2019-12-03 15:19:00|\n",
      "|AAA Batteries (4-...|12/13/19 08:43|58 Dogwood St, Sa...| San Francisco|   CA| 297015|       3|  2.99|2019-12-13 08:43:00|\n",
      "|Bose SoundSport H...|12/16/19 10:28|355 Park St, Bost...|        Boston|   MA| 297237|       1| 99.99|2019-12-16 10:28:00|\n",
      "|    27in FHD Monitor|12/03/19 11:38|542 9th St, New Y...| New York City|   NY| 297376|       1|149.99|2019-12-03 11:38:00|\n",
      "|Lightning Chargin...|12/17/19 13:13|708 Walnut St, Ne...| New York City|   NY| 297438|       1| 14.95|2019-12-17 13:13:00|\n",
      "|AAA Batteries (4-...|12/20/19 10:24|538 Hickory St, S...| San Francisco|   CA| 297541|       1|  2.99|2019-12-20 10:24:00|\n",
      "|    Wired Headphones|12/06/19 09:50|199 8th St, San F...| San Francisco|   CA| 297635|       1| 11.99|2019-12-06 09:50:00|\n",
      "|USB-C Charging Cable|12/31/19 14:29|421 Johnson St, S...| San Francisco|   CA| 297715|       1| 11.95|2019-12-31 14:29:00|\n",
      "|Lightning Chargin...|12/17/19 16:36|634 10th St, San ...| San Francisco|   CA| 297842|       1| 14.95|2019-12-17 16:36:00|\n",
      "|       Flatscreen TV|12/25/19 10:10|407 5th St, Dalla...|        Dallas|   TX| 298034|       1| 300.0|2019-12-25 10:10:00|\n",
      "|    Wired Headphones|12/01/19 14:46|854 Cedar St, Los...|   Los Angeles|   CA| 298348|       1| 11.99|2019-12-01 14:46:00|\n",
      "|Lightning Chargin...|12/18/19 11:10|974 Maple St, New...| New York City|   NY| 298442|       2| 14.95|2019-12-18 11:10:00|\n",
      "|AA Batteries (4-p...|12/25/19 00:29|58 Dogwood St, Bo...|        Boston|   MA| 298493|       1|  3.84|2019-12-25 00:29:00|\n",
      "|    Wired Headphones|12/08/19 08:00|428 South St, Los...|   Los Angeles|   CA| 298580|       1| 11.99|2019-12-08 08:00:00|\n",
      "|AAA Batteries (4-...|12/04/19 13:21|592 Church St, Lo...|   Los Angeles|   CA| 298726|       2|  2.99|2019-12-04 13:21:00|\n",
      "|AAA Batteries (4-...|12/02/19 11:44|213 1st St, Bosto...|        Boston|   MA| 298943|       1|  2.99|2019-12-02 11:44:00|\n",
      "|    27in FHD Monitor|12/05/19 17:12|722 Lakeview St, ...| San Francisco|   CA| 299788|       1|149.99|2019-12-05 17:12:00|\n",
      "+--------------------+--------------+--------------------+--------------+-----+-------+--------+------+-------------------+\n",
      "only showing top 20 rows\n",
      "\n"
     ]
    }
   ],
   "source": [
    "sales_temp_df.show()"
   ]
  },
  {
   "cell_type": "code",
   "execution_count": 41,
   "metadata": {},
   "outputs": [
    {
     "name": "stdout",
     "output_type": "stream",
     "text": [
      "root\n",
      " |-- Product: string (nullable = true)\n",
      " |-- Order Date: string (nullable = true)\n",
      " |-- StoreAddress: string (nullable = true)\n",
      " |-- City: string (nullable = true)\n",
      " |-- State: string (nullable = true)\n",
      " |-- OrderID: integer (nullable = true)\n",
      " |-- Quantity: integer (nullable = true)\n",
      " |-- Price: float (nullable = true)\n",
      " |-- OrderDate: timestamp (nullable = true)\n",
      "\n"
     ]
    }
   ],
   "source": [
    "sales_temp_df.printSchema()"
   ]
  },
  {
   "cell_type": "markdown",
   "metadata": {},
   "source": [
    "## Add New Columns:Month and Year"
   ]
  },
  {
   "cell_type": "code",
   "execution_count": 43,
   "metadata": {},
   "outputs": [],
   "source": [
    "sales_temp_df = (sales_temp_df.withColumn(\"ReportYear\", year(col(\"OrderDate\")))\n",
    "                              .withColumn(\"Month\", month(col(\"OrderDate\"))))"
   ]
  },
  {
   "cell_type": "code",
   "execution_count": 44,
   "metadata": {},
   "outputs": [
    {
     "name": "stdout",
     "output_type": "stream",
     "text": [
      "+--------------------+--------------+--------------------+--------------+-----+-------+--------+------+-------------------+----------+-----+\n",
      "|             Product|    Order Date|        StoreAddress|          City|State|OrderID|Quantity| Price|          OrderDate|ReportYear|Month|\n",
      "+--------------------+--------------+--------------------+--------------+-----+-------+--------+------+-------------------+----------+-----+\n",
      "|AA Batteries (4-p...|12/27/19 18:56|283 Washington St...|        Boston|   MA| 295900|       1|  3.84|2019-12-27 18:56:00|      2019|   12|\n",
      "|Lightning Chargin...|12/21/19 13:41|968 8th St, Austi...|        Austin|   TX| 295923|       1| 14.95|2019-12-21 13:41:00|      2019|   12|\n",
      "|Lightning Chargin...|12/15/19 20:16|857 Center St, Bo...|        Boston|   MA| 295991|       1| 14.95|2019-12-15 20:16:00|      2019|   12|\n",
      "|  Macbook Pro Laptop|12/03/19 15:19|679 Chestnut St, ...| San Francisco|   CA| 296076|       1|1700.0|2019-12-03 15:19:00|      2019|   12|\n",
      "|AAA Batteries (4-...|12/13/19 08:43|58 Dogwood St, Sa...| San Francisco|   CA| 297015|       3|  2.99|2019-12-13 08:43:00|      2019|   12|\n",
      "|Bose SoundSport H...|12/16/19 10:28|355 Park St, Bost...|        Boston|   MA| 297237|       1| 99.99|2019-12-16 10:28:00|      2019|   12|\n",
      "|    27in FHD Monitor|12/03/19 11:38|542 9th St, New Y...| New York City|   NY| 297376|       1|149.99|2019-12-03 11:38:00|      2019|   12|\n",
      "|Lightning Chargin...|12/17/19 13:13|708 Walnut St, Ne...| New York City|   NY| 297438|       1| 14.95|2019-12-17 13:13:00|      2019|   12|\n",
      "|AAA Batteries (4-...|12/20/19 10:24|538 Hickory St, S...| San Francisco|   CA| 297541|       1|  2.99|2019-12-20 10:24:00|      2019|   12|\n",
      "|    Wired Headphones|12/06/19 09:50|199 8th St, San F...| San Francisco|   CA| 297635|       1| 11.99|2019-12-06 09:50:00|      2019|   12|\n",
      "+--------------------+--------------+--------------------+--------------+-----+-------+--------+------+-------------------+----------+-----+\n",
      "only showing top 10 rows\n",
      "\n"
     ]
    }
   ],
   "source": [
    "sales_temp_df.show(10)"
   ]
  },
  {
   "cell_type": "code",
   "execution_count": null,
   "metadata": {},
   "outputs": [],
   "source": []
  }
 ],
 "metadata": {
  "kernelspec": {
   "display_name": "pyspark_env",
   "language": "python",
   "name": "pyspark_env"
  },
  "language_info": {
   "codemirror_mode": {
    "name": "ipython",
    "version": 3
   },
   "file_extension": ".py",
   "mimetype": "text/x-python",
   "name": "python",
   "nbconvert_exporter": "python",
   "pygments_lexer": "ipython3",
   "version": "3.7.11"
  }
 },
 "nbformat": 4,
 "nbformat_minor": 4
}
